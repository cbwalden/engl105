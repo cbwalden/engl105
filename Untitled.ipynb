{
 "cells": [
  {
   "cell_type": "code",
   "execution_count": 3,
   "id": "3d554c69-ddde-4004-aa28-c0251db9589e",
   "metadata": {},
   "outputs": [],
   "source": [
    "import numpy as np\n",
    "import pandas as pd"
   ]
  },
  {
   "cell_type": "code",
   "execution_count": 4,
   "id": "09c8deb0-1a1a-436f-85d9-c7cd540d5b53",
   "metadata": {},
   "outputs": [],
   "source": [
    "df=pd.read_csv(\"CountyHealthData_2014-2015.csv\")"
   ]
  },
  {
   "cell_type": "code",
   "execution_count": 5,
   "id": "76bcddc8-5da2-4b91-940f-6818fd0cabcc",
   "metadata": {},
   "outputs": [
    {
     "data": {
      "text/plain": [
       "(6109, 64)"
      ]
     },
     "execution_count": 5,
     "metadata": {},
     "output_type": "execute_result"
    }
   ],
   "source": [
    "df.shape"
   ]
  },
  {
   "cell_type": "code",
   "execution_count": 6,
   "id": "e76ca16b-f4f6-4ade-a6c6-b5bdd142d5a8",
   "metadata": {},
   "outputs": [
    {
     "data": {
      "text/plain": [
       "390976"
      ]
     },
     "execution_count": 6,
     "metadata": {},
     "output_type": "execute_result"
    }
   ],
   "source": [
    "df.size"
   ]
  },
  {
   "cell_type": "code",
   "execution_count": 7,
   "id": "6b028837-d9a5-4cce-8988-35779b7a96e5",
   "metadata": {},
   "outputs": [
    {
     "data": {
      "text/plain": [
       "True"
      ]
     },
     "execution_count": 7,
     "metadata": {},
     "output_type": "execute_result"
    }
   ],
   "source": [
    "df.size == 6109*64"
   ]
  },
  {
   "cell_type": "code",
   "execution_count": 9,
   "id": "157c61c4-3abe-4ea8-a25c-e0a99d0e08ec",
   "metadata": {},
   "outputs": [
    {
     "data": {
      "text/plain": [
       "Index(['State', 'Region', 'Division', 'County', 'FIPS', 'GEOID', 'SMS Region',\n",
       "       'Year', 'Premature death', 'Poor or fair health',\n",
       "       'Poor physical health days', 'Poor mental health days',\n",
       "       'Low birthweight', 'Adult smoking', 'Adult obesity',\n",
       "       'Food environment index', 'Physical inactivity',\n",
       "       'Access to exercise opportunities', 'Excessive drinking',\n",
       "       'Alcohol-impaired driving deaths', 'Sexually transmitted infections',\n",
       "       'Teen births', 'Uninsured', 'Primary care physicians', 'Dentists',\n",
       "       'Mental health providers', 'Preventable hospital stays',\n",
       "       'Diabetic screening', 'Mammography screening', 'High school graduation',\n",
       "       'Some college', 'Unemployment', 'Children in poverty',\n",
       "       'Income inequality', 'Children in single-parent households',\n",
       "       'Social associations', 'Violent crime', 'Injury deaths',\n",
       "       'Air pollution - particulate matter', 'Drinking water violations',\n",
       "       'Severe housing problems', 'Driving alone to work',\n",
       "       'Long commute - driving alone', '2011 population estimate',\n",
       "       'Population that is not proficient in English',\n",
       "       'Population living in a rural area', 'Diabetes', 'HIV prevalence rate',\n",
       "       'Premature age-adjusted mortality', 'Infant mortality',\n",
       "       'Child mortality', 'Food insecurity', 'Limited access to healthy foods',\n",
       "       'Motor vehicle crash deaths', 'Drug poisoning deaths',\n",
       "       'Uninsured adults', 'Uninsured children', 'Health care costs',\n",
       "       'Could not see doctor due to cost', 'Other primary care providers',\n",
       "       'Median household income', 'Children eligible for free lunch',\n",
       "       'Homicide rate', 'Inadequate social support'],\n",
       "      dtype='object')"
      ]
     },
     "execution_count": 9,
     "metadata": {},
     "output_type": "execute_result"
    }
   ],
   "source": [
    "df.columns"
   ]
  },
  {
   "cell_type": "code",
   "execution_count": 10,
   "id": "e1757ac1-4ec0-403a-8375-bd633064d0bb",
   "metadata": {},
   "outputs": [
    {
     "data": {
      "text/plain": [
       "State                                object\n",
       "Region                               object\n",
       "Division                             object\n",
       "County                               object\n",
       "FIPS                                  int64\n",
       "                                     ...   \n",
       "Other primary care providers        float64\n",
       "Median household income               int64\n",
       "Children eligible for free lunch    float64\n",
       "Homicide rate                       float64\n",
       "Inadequate social support           float64\n",
       "Length: 64, dtype: object"
      ]
     },
     "execution_count": 10,
     "metadata": {},
     "output_type": "execute_result"
    }
   ],
   "source": [
    "df.dtypes"
   ]
  },
  {
   "cell_type": "code",
   "execution_count": 15,
   "id": "41bafa6b-385e-4137-be08-29d79e880d71",
   "metadata": {},
   "outputs": [
    {
     "data": {
      "text/plain": [
       "TX    469\n",
       "GA    318\n",
       "VA    266\n",
       "KY    240\n",
       "MO    229\n",
       "IL    204\n",
       "NC    200\n",
       "KS    199\n",
       "IA    198\n",
       "TN    190\n",
       "IN    184\n",
       "OH    176\n",
       "MN    174\n",
       "MI    164\n",
       "MS    163\n",
       "NE    157\n",
       "OK    154\n",
       "AR    150\n",
       "WI    144\n",
       "FL    134\n",
       "PA    134\n",
       "AL    134\n",
       "LA    128\n",
       "NY    124\n",
       "CO    119\n",
       "SD    117\n",
       "CA    114\n",
       "WV    110\n",
       "ND     92\n",
       "MT     92\n",
       "SC     92\n",
       "ID     84\n",
       "WA     78\n",
       "OR     67\n",
       "NM     64\n",
       "UT     54\n",
       "MD     48\n",
       "AK     46\n",
       "WY     46\n",
       "NJ     42\n",
       "NV     32\n",
       "ME     32\n",
       "AZ     30\n",
       "MA     28\n",
       "VT     28\n",
       "NH     20\n",
       "CT     16\n",
       "RI     10\n",
       "HI      8\n",
       "DE      6\n",
       "DC      1\n",
       "Name: State, dtype: int64"
      ]
     },
     "execution_count": 15,
     "metadata": {},
     "output_type": "execute_result"
    }
   ],
   "source": [
    "df.State.value_counts()"
   ]
  },
  {
   "cell_type": "code",
   "execution_count": null,
   "id": "99baaf4e-ffe2-4d55-a9ee-79458ceaa2a4",
   "metadata": {},
   "outputs": [],
   "source": []
  }
 ],
 "metadata": {
  "kernelspec": {
   "display_name": "Python 3 (ipykernel)",
   "language": "python",
   "name": "python3"
  },
  "language_info": {
   "codemirror_mode": {
    "name": "ipython",
    "version": 3
   },
   "file_extension": ".py",
   "mimetype": "text/x-python",
   "name": "python",
   "nbconvert_exporter": "python",
   "pygments_lexer": "ipython3",
   "version": "3.9.13"
  }
 },
 "nbformat": 4,
 "nbformat_minor": 5
}
